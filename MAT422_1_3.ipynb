{
  "nbformat": 4,
  "nbformat_minor": 0,
  "metadata": {
    "colab": {
      "provenance": [],
      "authorship_tag": "ABX9TyMAwG/UZulvrgV2SuyVssdg",
      "include_colab_link": true
    },
    "kernelspec": {
      "name": "python3",
      "display_name": "Python 3"
    },
    "language_info": {
      "name": "python"
    }
  },
  "cells": [
    {
      "cell_type": "markdown",
      "metadata": {
        "id": "view-in-github",
        "colab_type": "text"
      },
      "source": [
        "<a href=\"https://colab.research.google.com/github/CookiesAndWater/MAT_422/blob/main/MAT422_1_3.ipynb\" target=\"_parent\"><img src=\"https://colab.research.google.com/assets/colab-badge.svg\" alt=\"Open In Colab\"/></a>"
      ]
    },
    {
      "cell_type": "markdown",
      "source": [
        "## 1.3.1 QR Decomposition"
      ],
      "metadata": {
        "id": "1a6kycseCNFW"
      }
    },
    {
      "cell_type": "markdown",
      "source": [
        "* **QR Decomposition**: A process to solve the linear least squares problem. It is where we turn the matrix A into two different matrices. It is the equation, $A = QR$.\n",
        " * A represents the matrix in which we are decomposing.\n",
        " * Q represents an orthogonal matrix, where the Gram-Schmidt algorithm is used to obtain an orthonormal basis from matrix A.\n",
        " * R represents an upper triangular matrix. Can be solved after solving for Q by reranging the equation to $R=Q^{T}A$.\n"
      ],
      "metadata": {
        "id": "IWvw8K2qCYFj"
      }
    },
    {
      "cell_type": "code",
      "execution_count": 17,
      "metadata": {
        "colab": {
          "base_uri": "https://localhost:8080/"
        },
        "id": "GGXFTJBWCHol",
        "outputId": "c4a61df3-01ca-4e20-9384-270287c3cc26"
      },
      "outputs": [
        {
          "output_type": "stream",
          "name": "stdout",
          "text": [
            "The original matrix A: \n",
            "[[ 1  3]\n",
            " [ 1 -1]] \n",
            "\n",
            "The matrix Q, which is orthogonormal: \n",
            "[[-0.70710678 -0.70710678]\n",
            " [-0.70710678  0.70710678]] \n",
            "\n",
            "The matrix R, which is the upper triangular matrix: \n",
            "[[-1.41421356 -1.41421356]\n",
            " [ 0.         -2.82842712]] \n",
            "\n",
            "The product of QR, which is equivalent to A: \n",
            "[[ 1.  3.]\n",
            " [ 1. -1.]]\n"
          ]
        }
      ],
      "source": [
        "import numpy as np\n",
        "import matplotlib.pyplot as plt\n",
        "from sklearn.linear_model import LinearRegression\n",
        "\n",
        "#The original matrix\n",
        "A = np.array([[1,3],\n",
        "              [1,-1]])\n",
        "print(\"The original matrix A: \")\n",
        "print(A,\"\\n\")\n",
        "\n",
        "#QR decomposition done by numpy\n",
        "Q , R = np.linalg.qr(A,mode = 'complete')\n",
        "print(\"The matrix Q, which is orthogonormal: \")\n",
        "print(Q, \"\\n\")\n",
        "print(\"The matrix R, which is the upper triangular matrix: \")\n",
        "print(R, \"\\n\")\n",
        "\n",
        "#QR\n",
        "print(\"The product of QR, which is equivalent to A: \")\n",
        "print(np.dot(Q,R))"
      ]
    },
    {
      "cell_type": "markdown",
      "source": [
        "The original matrix is A. Q is the orthogonal matrix of A and R is the upper triangular matrix of Q. The numpy library has a built-in algorithm(np.linalg.qr) that can give the orthogonal matrix of Q and R. We multiply QR and are to double check if it is equivalent to A."
      ],
      "metadata": {
        "id": "Cn2qCGWOT_hR"
      }
    },
    {
      "cell_type": "markdown",
      "source": [
        "## 1.3.2 Least-Square Problem"
      ],
      "metadata": {
        "id": "AJYgAMmp3rFE"
      }
    },
    {
      "cell_type": "markdown",
      "source": [
        "* **Least-Square Problem**: A way to minimize the sum squared residuals, or in other words, find an x such that the equation $min_{x ∈ R^{m}}||Ax - b||$ satisfies $A^{T}Ax = A^{T}b$.\n",
        " * A is an $n × m$ matrix that is linearly independent and b is a vector of length n.\n",
        " * We can also solve this using QR Decomposition(since the approach above can have numerical issues)."
      ],
      "metadata": {
        "id": "nlbnAaeC391T"
      }
    },
    {
      "cell_type": "code",
      "source": [
        "A = np.array([[1,2],\n",
        "              [3,4]])\n",
        "b = np.array([5,6])\n",
        "\n",
        "x , residuals , rank , singularValues = np.linalg.lstsq(A,b,rcond=-1)\n",
        "# x is the answer to the least square problem\n",
        "print(\"The answer, x, to the equation is: \")\n",
        "print(x,\"\\n\")\n",
        "#We want to reduce the residual as much as possible\n",
        "print(\"The residual that we want to reduce to zero is: \")\n",
        "print(residuals, \"\\n\")\n",
        "\n",
        "#Ax - b\n",
        "print(\"The product of A and x: \")\n",
        "print(np.dot(A,x),)\n",
        "print(\"The matrix b: \")\n",
        "print(b)\n",
        "print(\"\\n\")\n",
        "\n",
        "print(\"We see the product Ax and b are the same\\n\")\n",
        "\n",
        "#(A^T)Ax = (A^t)b\n",
        "print(\"The product of (A^T) * A * x: \")\n",
        "print(np.dot(np.dot(np.transpose(A),A), x))\n",
        "print(\"The product of (A^T) * b: \")\n",
        "print(np.dot(np.transpose(A),b),\"\\n\")\n",
        "\n",
        "print(\"We also see (A^T)Ax=(A^T)b\")\n"
      ],
      "metadata": {
        "colab": {
          "base_uri": "https://localhost:8080/"
        },
        "id": "Yvoo8qT03_Rp",
        "outputId": "c186cf94-ea17-44fc-f065-3ec94e73d3fa"
      },
      "execution_count": 18,
      "outputs": [
        {
          "output_type": "stream",
          "name": "stdout",
          "text": [
            "The answer, x, to the equation is: \n",
            "[-4.   4.5] \n",
            "\n",
            "The residual that we want to reduce to zero is: \n",
            "[] \n",
            "\n",
            "The product of A and x: \n",
            "[5. 6.]\n",
            "The matrix b: \n",
            "[5 6]\n",
            "\n",
            "\n",
            "We see the product Ax and b are the same\n",
            "\n",
            "The product of (A^T) * A * x: \n",
            "[23. 34.]\n",
            "The product of (A^T) * b: \n",
            "[23 34] \n",
            "\n",
            "We also see (A^T)Ax=(A^T)b\n"
          ]
        }
      ]
    },
    {
      "cell_type": "markdown",
      "source": [
        "x is the answer to the equations, $min_{x ∈ R^{m}}||Ax - b||$ and $A^{T}Ax = A^{T}b$. The residual doesn't have anything in it, meaning that the residual is reduced as much as possible. I also double checked both equations by plugging values, and got the same answer."
      ],
      "metadata": {
        "id": "Fr-yXwpx6vUt"
      }
    },
    {
      "cell_type": "markdown",
      "source": [
        "## 1.3.3 Linear Regression\n"
      ],
      "metadata": {
        "id": "w7bCABcq3_r6"
      }
    },
    {
      "cell_type": "markdown",
      "source": [
        "* **Linear Regression**: In simple terms, the best way to fit a line to a set of data points such that the sum of residuals is minimized.\n",
        "Mathematically, finding coefficents to $β{j}$'s that minimize $∑^{n}_{i=1} (y_{i} - \\hat{y}_{i})^{2} $, where $\\hat{y}_{i} = β_{0} + ∑^{d}_{j=1} β_{j} x_{ij}$. Used to find the relation between two variables.\n",
        "  * To put it in terms we are more familiar with (or at least I understand more), $\\hat{y}_{i} = β_{0} + ∑^{d}_{j=1} β_{j} x_{ij}$ is similiar to the equation y = mx + b, where $β_{0}$ is equivalent to the y-intercept (b) and $β_{1}$ is equivalent to slope (m).\n",
        "  * $\\hat{y}_{i}$ is the predicted values(The line of linear regression) and $y_{i}$ is the observed data (The data points on the graph)\n",
        "  * Can be solved using least-squares problem.\n"
      ],
      "metadata": {
        "id": "titY_GrO4HRQ"
      }
    },
    {
      "cell_type": "code",
      "source": [
        "#Random points on a graph\n",
        "xpoints = np.arange(0,20).reshape((-1,1))\n",
        "ypoints = np.random.randint(20, size = 20)\n",
        "#Make the data ascend and somewhat uniform\n",
        "ypoints.sort()\n",
        "#Plot the x and y data\n",
        "plt.plot(xpoints, ypoints, color='blue', marker='o', linestyle = 'none')\n",
        "#The whole linear regression solver(from sklearn library)\n",
        "model = LinearRegression().fit(xpoints, ypoints)\n",
        "#Plot the y = mx + b(the linear regression line)\n",
        "plt.plot(xpoints,(xpoints * model.coef_) + model.intercept_, color = 'black', linestyle = 'solid')\n",
        "plt.show()\n"
      ],
      "metadata": {
        "colab": {
          "base_uri": "https://localhost:8080/",
          "height": 430
        },
        "id": "Dpd7DDT64KTt",
        "outputId": "54bf7ba2-98f5-4a4c-87a0-0b8683b05c94"
      },
      "execution_count": 19,
      "outputs": [
        {
          "output_type": "display_data",
          "data": {
            "text/plain": [
              "<Figure size 640x480 with 1 Axes>"
            ],
            "image/png": "[encoded data removed]"
          },
          "metadata": {}
        }
      ]
    },
    {
      "cell_type": "markdown",
      "source": [
        "The graph above is generated using random data points, where xpoints represents the x-values and ypoints represent the y-values. The ypoints.sort() is used to make the data more uniform, as without it the data points would be to random to find any correlation. The linear regression is put into the variable \"model\", where we can find the y-intercept(model.intercept_) and the x-intercept(model.coef_). We then graph the linear regression line and get the best fit.\n"
      ],
      "metadata": {
        "id": "JC3DPFVzOkiG"
      }
    }
  ]
}