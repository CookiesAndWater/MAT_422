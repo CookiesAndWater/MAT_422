{
  "nbformat": 4,
  "nbformat_minor": 0,
  "metadata": {
    "colab": {
      "provenance": [],
      "authorship_tag": "ABX9TyNj4gxmNJ3/NpyBCyuMjb4d",
      "include_colab_link": true
    },
    "kernelspec": {
      "name": "python3",
      "display_name": "Python 3"
    },
    "language_info": {
      "name": "python"
    }
  },
  "cells": [
    {
      "cell_type": "markdown",
      "metadata": {
        "id": "view-in-github",
        "colab_type": "text"
      },
      "source": [
        "<a href=\"https://colab.research.google.com/github/CookiesAndWater/MAT_422/blob/main/MAT422_1_2_1.ipynb\" target=\"_parent\"><img src=\"https://colab.research.google.com/assets/colab-badge.svg\" alt=\"Open In Colab\"/></a>"
      ]
    },
    {
      "cell_type": "markdown",
      "source": [
        "#Chapter 1.2\n"
      ],
      "metadata": {
        "id": "lfr8OoyfAmxM"
      }
    },
    {
      "cell_type": "markdown",
      "source": [
        "##1.2.1 Linear Spaces"
      ],
      "metadata": {
        "id": "MDgo5nRLA1In"
      }
    },
    {
      "cell_type": "markdown",
      "source": [
        "Definitions:\n",
        "\n",
        "\n",
        "*   **Linear Combination**: A vector made from a subset by a combination of differently scaled vectors and combining them. This results in a linear combination.\n",
        "*   **Linear Subpace**: A linear subspace is made up by linear combinations. The requirements for it to be a linear subspace is that a linear subsapce of V is a subset U ⊆ V and is both closed under vecotr addition and scalar multiplication. This can be represented in the form $u_{1},u_{2} ∈U$ and $αu_{1}\\in U$\n"
      ],
      "metadata": {
        "id": "Q8ivXOr3BDZO"
      }
    },
    {
      "cell_type": "code",
      "execution_count": null,
      "metadata": {
        "colab": {
          "base_uri": "https://localhost:8080/"
        },
        "id": "EslcLP2e_MjV",
        "outputId": "4997bd94-9a29-46f5-cbec-56b8cd433562"
      },
      "outputs": [
        {
          "output_type": "stream",
          "name": "stdout",
          "text": [
            "[21 39 57]\n"
          ]
        }
      ],
      "source": [
        "import numpy as np\n",
        "\n",
        "#Example of Linear Combination\n",
        "\n",
        "v1 = np.array([1,2,3])\n",
        "v2 = np.array([11,22,33])\n",
        "\n",
        "a1 = 7\n",
        "a2 = 3\n",
        "\n",
        "#Adding them results in a new vector\n",
        "new_vector = (a1 * v1) + (a2 + v2)\n",
        "print(new_vector)"
      ]
    },
    {
      "cell_type": "markdown",
      "source": [
        "In the code above, there are two vectors, v1 and v2. Also, there are two scalar values, a1 and a2. The new vector(printed above) is made from a linear combination of v1 scaled by a1 combined with v2 scaled by v2."
      ],
      "metadata": {
        "id": "ES9vb-hfS6aC"
      }
    },
    {
      "cell_type": "markdown",
      "source": [
        "*   **Span**: The set of all possible vectors that can be made from linear combinations\n",
        "*   **Linear Independence**: A set of vectors that cannot be made by a linear combination of the other vectors.\n",
        "*   **Basis**: A set of vectors that both span U(the linear subspace of V) and are linearly independent.\n",
        "\n"
      ],
      "metadata": {
        "id": "6ElheNd6IqGS"
      }
    },
    {
      "cell_type": "markdown",
      "source": [
        "##1.2.2 Orthogonality"
      ],
      "metadata": {
        "id": "IxXKMB7KLGWX"
      }
    },
    {
      "cell_type": "markdown",
      "source": [
        "\n",
        "\n",
        "*   **Inner Product**: ⟨u,v⟩, which is an abreviation of the dot product.\n",
        "*   **Norm**: ||u||, which is a variation of the inner product, written in the form  $(∑_{1}^{n}u_{i}^{2})^{1/2}$\n",
        "*   **Orthonormal**: A list of vectors is orthonormal if they have have a magnitude of 1 and are mutually orthogonal.\n",
        "\n",
        "\n",
        "\n"
      ],
      "metadata": {
        "id": "Ks78x69MLMsX"
      }
    },
    {
      "cell_type": "code",
      "source": [
        "v1 = np.array([1,4,5])\n",
        "v2 = np.array([1,3,5])\n",
        "\n",
        "#Inner product example\n",
        "inner = np.dot(v1,v2)\n",
        "print(\"The inner product for v1 and v2 is: \")\n",
        "print(inner, \"\\n\")\n",
        "\n",
        "#Norm example\n",
        "norm = np.dot(v1,v1)\n",
        "print(\"The norm is for v1: \")\n",
        "print(norm, \"\\n\")\n",
        "\n",
        "#Orthonormal Example\n",
        "orthonormal_matrix = np.array([\n",
        "[1,0,],\n",
        "[0,1,]\n",
        "])\n",
        "\n",
        "print(\"The orthornormal matrix is: \\n\", orthonormal_matrix)"
      ],
      "metadata": {
        "colab": {
          "base_uri": "https://localhost:8080/"
        },
        "id": "LtPHksD3LJov",
        "outputId": "a08531cf-d19e-4cbd-9d33-ee11d9beffbf"
      },
      "execution_count": 66,
      "outputs": [
        {
          "output_type": "stream",
          "name": "stdout",
          "text": [
            "The inner product for v1 and v2 is: \n",
            "38 \n",
            "\n",
            "The norm is for v1: \n",
            "42 \n",
            "\n",
            "The orthornormal matrix is: \n",
            " [[1 0]\n",
            " [0 1]]\n"
          ]
        }
      ]
    },
    {
      "cell_type": "markdown",
      "source": [
        "Norm is calculated by the dot product of two vectors, specifically v1 and v2. Inner product is calculated from the dot product of itself. The matrix shown above is orthonormal, since it has a magnitude of 1 and is mutually orthogonal"
      ],
      "metadata": {
        "id": "G7gORQrewGDV"
      }
    },
    {
      "cell_type": "markdown",
      "source": [
        "* **Orthogonal Projection**: Letting U ⊆ V with orthonormal basis, the orthogonal projection of v ∈ V on U is define by $P_{U}v = ∑_{j=1}^{m}⟨v,q_{j}⟩q_{j}$\n"
      ],
      "metadata": {
        "id": "YvhnqhMSyV8F"
      }
    },
    {
      "cell_type": "markdown",
      "source": [
        "##1.2.3 Gram-Schmidt Process"
      ],
      "metadata": {
        "id": "mO3yUChmVAJC"
      }
    },
    {
      "cell_type": "markdown",
      "source": [
        "* **Gram-Shmidt**: A process that turns of turning linearly independent vectors into orthonormal vectors that cover the same span. In simpler terms, it finds a orthornaml basis from a basis.\n",
        "* **Projection operator**: It is defined by the equation $proj_{u}(v) = \\frac{⟨u,v⟩}{⟨u,u⟩}u$"
      ],
      "metadata": {
        "id": "8NdiijI2VN1_"
      }
    },
    {
      "cell_type": "markdown",
      "source": [
        "##1.2.4 EigenValues and Eigenvectors"
      ],
      "metadata": {
        "id": "K5k3CgMzSP3k"
      }
    },
    {
      "cell_type": "markdown",
      "source": [
        "\n",
        "\n",
        "*   **Eigenvalue**: λ ∈ ℜ is called an eigenvalue of A if there is a nonzero vector x, where x ≠ 0, in the equation Ax = λx.\n",
        "*  **Eigenvector**: The vector x in the equation, Ax = λx, represents the eigenvector.\n",
        "* **Trace**: The trace of A, is the sum of it's diagnonal entries of the matrix, which is also the sum of all eigenvalues.\n",
        "* **Determinant**: A unique value of a square matrices. The way of finding this value depends on the size of the matrix, but can be found from the product of its eigenvalues.\n",
        "\n"
      ],
      "metadata": {
        "id": "ILGX4Mf1Tq1Z"
      }
    },
    {
      "cell_type": "code",
      "source": [
        "#Example of eigenvalues and eigenvectors\n",
        "A = np.array([\n",
        "[3,2,4],\n",
        "[2,0,2],\n",
        "[4,2,3]\n",
        "])\n",
        "\n",
        "eigenvalues, eigenvectors = np.linalg.eig(a)\n",
        "print(\"The eigenvalues are:\",eigenvalues)\n",
        "print(\"The eigenvectors are:\\n\",eigenvectors)\n",
        "\n",
        "#Trace example\n",
        "sum_of_eigval = 0\n",
        "for i in eigenvalues:\n",
        "    sum_of_eigval += i\n",
        "\n",
        "diag = np.diag(A)\n",
        "trace = 0\n",
        "for i in diag:\n",
        "  trace += i\n",
        "print(\"\\nThe trace is: \",trace, \", while the sum of eigenvalues is: \",sum_of_eigval)\n",
        "\n",
        "#Determinent example\n",
        "determinent = np.linalg.det(A)\n",
        "product_of_eigval = 1\n",
        "for i in eigenvalues:\n",
        "  product_of_eigval *= i\n",
        "print(\"The determinent is: \", determinent, \" while the product of eigenvalues is: \", product_of_eigval)"
      ],
      "metadata": {
        "colab": {
          "base_uri": "https://localhost:8080/"
        },
        "id": "aU5gKcUWSiwn",
        "outputId": "aff887a7-88fb-41d1-c507-2cd37c714b69"
      },
      "execution_count": null,
      "outputs": [
        {
          "output_type": "stream",
          "name": "stdout",
          "text": [
            "The eigenvalues are: [-1.  8. -1.]\n",
            "The eigenvectors are:\n",
            " [[-0.74535599  0.66666667 -0.21539222]\n",
            " [ 0.2981424   0.33333333 -0.77010996]\n",
            " [ 0.59628479  0.66666667  0.6004472 ]]\n",
            "\n",
            "The trace is:  6 , while the sum of eigenvalues is:  5.999999999999999\n",
            "The determinent is:  7.999999999999998  while the product of eigenvalues is:  8.000000000000005\n"
          ]
        }
      ]
    },
    {
      "cell_type": "markdown",
      "source": [
        "The code above gives the eigenvalues and eiganvectors corresponding to the variable A above. Also above, the trace and sum of the eigenvalues are the same, while the determinent and product of the eigenvalues are the same(the numbers are different due to floating point calculation)."
      ],
      "metadata": {
        "id": "ueot0SzmijE2"
      }
    },
    {
      "cell_type": "markdown",
      "source": [
        "* Diagonalization: There exists a nonsingular matrix P such that $A = PDP^{-1}$.\n",
        " * P represents an orthogonal matrix that is invertible, where $P^{-1} = P^{T}$.\n",
        " * D represents a diagonal matrix, where only the diagonal of the matrix can contain non-zero numbers.\n",
        "\n",
        "\n",
        "\n",
        "\n"
      ],
      "metadata": {
        "id": "dco_ZKvGsdkD"
      }
    },
    {
      "cell_type": "code",
      "source": [
        "#Example of diagonalization\n",
        "\n",
        "A = np.array([\n",
        "    [2,0,0],\n",
        "    [1,2,1],\n",
        "    [-1,0,1]\n",
        "])\n",
        "\n",
        "D = np.array([\n",
        "    [2,0,0],\n",
        "    [0,2,0],\n",
        "    [0,0,1]\n",
        "])\n",
        "\n",
        "P = np.array([\n",
        "    [0,-1,0],\n",
        "    [1,0,-1],\n",
        "    [0,1,1]\n",
        "])\n",
        "\n",
        "P_D_invP = np.matmul(np.matmul(P,D),(np.linalg.inv(P)))\n",
        "\n",
        "print(\"The matrix A: \\n\", A, \"\\nis equivalent to PDP^-1: \\n\",P_D_invP)\n"
      ],
      "metadata": {
        "colab": {
          "base_uri": "https://localhost:8080/"
        },
        "id": "ck_OXmZmzK-3",
        "outputId": "bf4bc421-c56f-4eee-d72f-a261e5ebd3cf"
      },
      "execution_count": 56,
      "outputs": [
        {
          "output_type": "stream",
          "name": "stdout",
          "text": [
            "The matrix A: \n",
            " [[ 2  0  0]\n",
            " [ 1  2  1]\n",
            " [-1  0  1]] \n",
            "is equivalent to PDP^-1: \n",
            " [[ 2.  0.  0.]\n",
            " [ 1.  2.  1.]\n",
            " [-1.  0.  1.]]\n",
            "[[ 0 -1  0]\n",
            " [ 1  0 -1]\n",
            " [ 0  1  1]]\n"
          ]
        }
      ]
    },
    {
      "cell_type": "markdown",
      "source": [
        "The first matrix is the matrix A. The second matrix is a matrix combined from $PDP^{-1}$. P is gotten from both the eigenvalues and eigen vectors. D is the eigenvalues made into the diagonal of matrix D."
      ],
      "metadata": {
        "id": "EEb9_3DCrWur"
      }
    }
  ]
}