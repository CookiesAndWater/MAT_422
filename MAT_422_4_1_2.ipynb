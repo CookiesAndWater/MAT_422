{
  "nbformat": 4,
  "nbformat_minor": 0,
  "metadata": {
    "colab": {
      "provenance": [],
      "authorship_tag": "ABX9TyMWlTwqdfUxiDvt8oUTQU1A",
      "include_colab_link": true
    },
    "kernelspec": {
      "name": "python3",
      "display_name": "Python 3"
    },
    "language_info": {
      "name": "python"
    }
  },
  "cells": [
    {
      "cell_type": "markdown",
      "metadata": {
        "id": "view-in-github",
        "colab_type": "text"
      },
      "source": [
        "<a href=\"https://colab.research.google.com/github/CookiesAndWater/MAT_422/blob/main/MAT_422_4_1_2.ipynb\" target=\"_parent\"><img src=\"https://colab.research.google.com/assets/colab-badge.svg\" alt=\"Open In Colab\"/></a>"
      ]
    },
    {
      "cell_type": "markdown",
      "source": [
        "# Chapter 4 Network Analysis"
      ],
      "metadata": {
        "id": "nAMUDTWHV4Pb"
      }
    },
    {
      "cell_type": "markdown",
      "source": [
        "# 4.1.1 Graph Models"
      ],
      "metadata": {
        "id": "OLHqPyDF8i2m"
      }
    },
    {
      "cell_type": "markdown",
      "source": [
        "* **Graph Models**: Consist of objects called nodes and the connections between them called edges.\n",
        "  * In notation, denoted as $G(V,E)$, where $V$ is the set of nodes and $E$ is the set of edges. $m=|E|$ represents the number of edges\n",
        "* **Edge Notation**: Edges can be represented between their endpoints: $e(v_1,v_2)$ or $(v_1,v_2)$, where this particular example indicates a connection between node $v_1$ and\n",
        "  $v_2$\n",
        "* **Edge Direction**: If only one node is connected to another but not vice versa\n",
        "  * **Directed Edges**: Have direction, $e(v_1,v_2) \\neq e(v_2,v_1)$\n",
        "    * Graph is called directed graphs\n",
        "  * **Undirected Edges**: Nodes are connected both ways.\n",
        "    * Graph is called undirected graphs\n",
        "  * **Mixed Graphs**: Contain both directed and undirected edges.\n",
        "* **Path**: A sequence of edges where nodes and edges are distinct\n",
        "  * **Cycle**: Closed Path\n",
        "  * **Path Length**: Number of edges in path or cycle\n",
        "* **Direct Graphs**: Only direct paths are counted following the direction\n",
        "* **Shortest Path**: What we are interested in, the path with the shortest length. Used as distance for modeling on networks\n",
        "* **Neighborhood of a node**: A $n$-hop neighborhood of a node $v_i$ is the set of nodes that are withing $n$ hops distance from that node.\n",
        "\n",
        "* **Node degree**: The number of edges connected to a node.\n",
        "  * A directed graph has two types:\n",
        "    * **In-degrees**: Edges pointed towards the node\n",
        "    * **Out-degrees**: Edges pointed away from the node\n",
        "* **Centrality**: Nodes with the most connections. The more connections, the more important it is\n",
        "  * **In-degree Centrality**: Describes the popularity of a node and it's prominence\n",
        "  * **Out-degree Centrality**: Describes the gregariousness(outwardness) of a node\n"
      ],
      "metadata": {
        "id": "a4NMnzLp8rzg"
      }
    },
    {
      "cell_type": "markdown",
      "source": [
        "## 4.1.2 Laplacian Matrix"
      ],
      "metadata": {
        "id": "_6LaPowQ9fiO"
      }
    },
    {
      "cell_type": "markdown",
      "source": [
        "* **Adjacency Matrix**: Represents a graph with $n$ nodes using an $n × n$ matrix\n",
        "  * A value of 1 at position $M_{ij}$ indicates an edge between nodes $v_i$ and $v_j$, a value of 0 means no edge\n",
        "  * When generalized, any real numbers can indicate strength of connection.\n",
        "  * **Direct/Undirected Graphs**: Directed graphs have non-symmetric adjacency matrices, while Undirected graphs have symmetric adjacency matrices($A=A^T$)\n",
        "* **Laplacian Matrix**: A symmetric $n \\times n$ matrix representing the graph structure\n",
        "  * **Diagonal entries**: $L_{ii} = ∑_kE_{ik}$ (sum of edge weights connected to vertex $v_i$)\n",
        "  * **Off-diagonal entries**: $L_{ij} = -E_{ij}$ if $v_i$ and $v_j$ are adjacent, 0 if not adjacent.\n",
        "* **Incidence Matrix**: A $n \\times m$ matrix where $n$ is the number of vertices and $m$ is the number of edges\n",
        "  * Each edge has two non-zero entries corresponding to its two vertices, $\\sqrt{E_{ij}}$ and $-\\sqrt{E_{ij}}$"
      ],
      "metadata": {
        "id": "nCrqqZhe9i4m"
      }
    },
    {
      "cell_type": "markdown",
      "source": [
        "## 4.2 Spectral Graph Bipartitioning"
      ],
      "metadata": {
        "id": "_hRugLh5vYpS"
      }
    },
    {
      "cell_type": "markdown",
      "source": [
        "* **Graph Partitioning**: The goal is to partition a graph into two sets, $V_1$ and $V_2$ such that the **cut** (the number of edges bewtween the sets) is minimized\n",
        "  * The **cut** between $V_1$ and $V_2$ for a weighted graph $G = (V,E)$ is defined as\n",
        "    * cut$(V_1, V_2) = ∑_{i ∈ V_1, j ∈ V_2}M_i$$_j$\n",
        "    * The definition of a cut can be extended to k vertex subsets\n",
        "* **Classical Bipartitioning**: Finding a bipartition where the **cut** is minimized and the set $V_1$ and $V_2$ are nearly equal is size.\n",
        "  * $p_i = $ \\begin{cases}\n",
        "      +1, & i ∈ V_1 \\\\\n",
        "      -1, & i ∈ V_2\n",
        "      \\end{cases}\n",
        "* **Rayleigh Quotient**: The cut can be minimized using the Rayleigh Quotient involving the **Laplacian matrix** $L$ of the graph\n",
        "  * $\\frac{p^TLp}{p^Tp} = \\frac{1}{n}*4cut(V_1,V_2)$\n",
        "* **Objective Function for balancing**: To balance cuts, we define a weight matrix $W$, where $w_{ii}$ is a weight for each vertex i. We want to minimize the following function\n",
        "  * $Q(V_1, V_2) = \\frac{cut(V_1,V_2)}{Wv_1} + \\frac{cut(V_1,V_2)}{Wv_2}$\n",
        "    * This favors partitions that have a small cut value and are balanced\n",
        "* **Generalized Partition Vector**:\n",
        "  * A generalized partition vector $q$ satisfies\n",
        "    * $q_i$ =  \\begin{cases}\n",
        "      \\frac{\\sqrt{v_2}}{\\sqrt{v1}}, & i ∈ V_1 \\\\\n",
        "      -\\frac{\\sqrt{v_2}}{\\sqrt{v1}}, & i ∈ V_2\n",
        "      \\end{cases}\n",
        "    * The objective function minimization is achieved by solving a generalized eigenvale problem\n",
        "      * $Lx = λWx$, where the solution is the second smallest eigenvalue $λ_2$\n",
        "* **Normalized Cut**: Used to penalize unbalanced partitions\n",
        "  * Normalized Cut$(V_1, V_2) = \\frac{cut(V_1, V_2)}{∑_{i∈V_1}w_{ii}} + \\frac{cut(V_1, V_2)}{∑_{i∈V_1}w_{ii}}$"
      ],
      "metadata": {
        "id": "vLkDfqcWvhT9"
      }
    },
    {
      "cell_type": "code",
      "source": [
        "import networkx as nx\n",
        "import numpy as np\n",
        "import scipy.linalg as linalg\n",
        "import scipy.sparse as sp\n",
        "from scipy.sparse.csgraph import laplacian\n",
        "\n",
        "#Simple Graph\n",
        "G = nx.erdos_renyi_graph(6,0.5)\n",
        "\n",
        "#Adjacency matrix\n",
        "A = nx.to_numpy_array(G)\n",
        "\n",
        "#Degree matrix\n",
        "D = np.diag(np.sum(A, axis = 1))\n",
        "\n",
        "#Laplacian matrix\n",
        "L = D - A\n",
        "\n",
        "#Eigenvalues and eigenvectors, Lx = lambda * Wx\n",
        "eigenvalues, eigenvectors = linalg.eigh(L)\n",
        "sort_eigenvals = np.argsort(eigenvalues)\n",
        "eigvals = eigenvalues[sort_eigenvals]\n",
        "eigvec = eigenvectors[:,sort_eigenvals]\n",
        "\n",
        "fiedler_vector = eigvec[:,1]\n",
        "\n",
        "#partitions\n",
        "partition1 = np.where(fiedler_vector > 0)[0]\n",
        "partition2 = np.where(fiedler_vector < 0)[0]\n",
        "\n",
        "print(\"Partition 1:\", partition1)\n",
        "print(\"Partition 2:\", partition2)\n",
        "\n",
        "cut_value = np.sum(A[partition1, :][:,partition2])\n",
        "print(\"Cut value:\", cut_value)"
      ],
      "metadata": {
        "colab": {
          "base_uri": "https://localhost:8080/"
        },
        "id": "JGQ9X3sq0kUU",
        "outputId": "2bda0296-c943-4562-eaa5-8782a53380cd"
      },
      "execution_count": 18,
      "outputs": [
        {
          "output_type": "stream",
          "name": "stdout",
          "text": [
            "Partition 1: [1 2 4 5]\n",
            "Partition 2: [3]\n",
            "Cut value: 3.0\n"
          ]
        }
      ]
    },
    {
      "cell_type": "markdown",
      "source": [
        "We first make simple graph with the networks library. We then create the **adjacency matrix** using it's built in functions. We then create a **degree matrix** where each entry is the degree of the node. We then get the **laplacian matrix**, with $L = D - A$.  We solve the eigenvalue problem $Lx = λWx$. From here we get the second smallest eigenvector,the **Fiedler vector**, for optimal partitioning. We then make the partitions based on the Fiedler vector. The cut is calculated by summing the weights of the adjacency matrix entries."
      ],
      "metadata": {
        "id": "G2wEkbpL2dNT"
      }
    }
  ]
}