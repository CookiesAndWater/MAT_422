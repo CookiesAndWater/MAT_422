{
  "nbformat": 4,
  "nbformat_minor": 0,
  "metadata": {
    "colab": {
      "provenance": [],
      "authorship_tag": "ABX9TyNV+K3sPkNM/G8Tu/bOTW+b",
      "include_colab_link": true
    },
    "kernelspec": {
      "name": "python3",
      "display_name": "Python 3"
    },
    "language_info": {
      "name": "python"
    }
  },
  "cells": [
    {
      "cell_type": "markdown",
      "metadata": {
        "id": "view-in-github",
        "colab_type": "text"
      },
      "source": [
        "<a href=\"https://colab.research.google.com/github/CookiesAndWater/MAT_422/blob/main/MAT422.ipynb\" target=\"_parent\"><img src=\"https://colab.research.google.com/assets/colab-badge.svg\" alt=\"Open In Colab\"/></a>"
      ]
    },
    {
      "cell_type": "markdown",
      "source": [
        "## 2.2.1 Probability Axioms"
      ],
      "metadata": {
        "id": "Nf0UmHjgN5-M"
      }
    },
    {
      "cell_type": "markdown",
      "source": [
        "* $S$ is the sample set of the experiment, which is all the possible outcomes of an experiment.\n",
        " * An event is any subset of S\n",
        "   * An event is known as **simple** if there is exactly one outcome\n",
        "   * An event is known as **compound** if it contains more than one outcome\n",
        "* Given an experiment and the sample space $S$, the probability distrubition is a function which assigns every event $A$ a number known as $P(A)$, which is the chance/probability that A occurs.\n",
        " * The assignment of the probabilities follows these axioms:\n",
        "   * 1. For any event $A$, $1 \\ge P(A) \\ge 0$\n",
        "   * 2. $P(S) = 1$\n",
        "   * 3. if $A_{1},A_{2},A_{3},...$ is an infinite collection if disjoints events, then $P(A_{1} \\cup A_{2} \\cup A_{3}...) = ∑_{i=0}^{∞}P(A_{i})$\n",
        "   * 4. For any event $A$, $P(A) + P(A') = 1,$ where $P(A) = 1 - P(A')$\n",
        "   * 5. When events $A$ and $B$ are mutually exclusive, $P(A \\cup B) = P(A) + P(B)$\n",
        "   * 6. For any two events $A$ and $B$, $P(A \\cup B) = P(A) + P(B) - P(A \\cap B)$"
      ],
      "metadata": {
        "id": "8RNXl4pxOB4n"
      }
    },
    {
      "cell_type": "markdown",
      "source": [
        "## 2.2.2 Conditional Probability"
      ],
      "metadata": {
        "id": "yR71l3tiQVYx"
      }
    },
    {
      "cell_type": "markdown",
      "source": [
        "* **Conditional Probability**: Let there be two events $A$ and $B$ in sample space $S$. For any two events $A$ and $B$ with $P(B) > 0$, the conditional probability of $A$ given that B has occured is\n",
        " * $P(A|B) = \\frac{P(A \\cap B)}{P(B)}$, which can be rewritten as $P(A \\cap B) = P(A|B)·P(B)$\n",
        "* If the two events $A$ and $B$ are independent events, then $P(A|B) = P(A)$, since they have no relation to each other"
      ],
      "metadata": {
        "id": "RKGSp1__r8cG"
      }
    },
    {
      "cell_type": "code",
      "source": [
        "#Pulling a certain card from a deck of 52 cards\n",
        "print(\"What is the probability that you pick a spade given that you picked a black card out of a 52 deck of cards?\\n\")\n",
        "print(\"Let's call event A the probability of a spade and event B the probabilty of a black card\\n\")\n",
        "#Probability of B\n",
        "B = 13/52\n",
        "print(\"Since there 13 spades in a deck of 52 cards,the probablity is:\", B)\n",
        "#Probability of P(A n B)\n",
        "AnB = (13/52) * (26/52)\n",
        "print(\"\\nSince there 13 spades and 26 black cards in a deck of 52 cards, we multiply their probabilities together, which gives:\", AnB)\n",
        "#Probability of P(A|B)\n",
        "AlB = AnB/B\n",
        "print(\"\\nWe then plug in the numbers into the equation, which gives:\", AlB)"
      ],
      "metadata": {
        "colab": {
          "base_uri": "https://localhost:8080/"
        },
        "id": "ur4Xzc6Jt1EN",
        "outputId": "b74ff395-40c6-4d82-d5be-79e3a336d0f3"
      },
      "execution_count": 9,
      "outputs": [
        {
          "output_type": "stream",
          "name": "stdout",
          "text": [
            "What is the probability that you pick a spade given that you picked a black card out of a 52 deck of cards?\n",
            "\n",
            "Let's call event A the probability of a spade and event B the probabilty of a black card\n",
            "\n",
            "Since there 13 spades in a deck of 52 cards,the probablity is: 0.25\n",
            "\n",
            "Since there 13 spades and 26 black cards in a deck of 52 cards, we multiply their probabilities together, which gives: 0.125\n",
            "\n",
            "We then plug in the numbers into the equation, which gives: 0.5\n"
          ]
        }
      ]
    },
    {
      "cell_type": "markdown",
      "source": [
        "Logically, suppose that we have a black card. That then reduces the sample size to 26 possible cards since half the of the 52 card deck is black. Since half of the remaining cards are either spades or clubs, then there's a 50/50 chance of picking spades, which is the same result as $A|B$"
      ],
      "metadata": {
        "id": "mZJyPMz1mOz6"
      }
    },
    {
      "cell_type": "markdown",
      "source": [
        "## 2.2.3 Discrete Random Variables"
      ],
      "metadata": {
        "id": "1yblyxB7QhgG"
      }
    },
    {
      "cell_type": "markdown",
      "source": [
        "* In a sample space S, a **random variable** is any rule that gives an outcome in S a number, which we call $X$. There exists two types.\n",
        "  * **Discrete Random Variables** are random variables that are either finite or infinite\n",
        "* **Discrete Random Variables** can be described as **probability distribution** or **probability mass functions(pmf).**\n",
        "  * It is defined for every number x by the function $p(x) = P(X=x) = P($all$ s \\in S: X(s) = x)$\n",
        "* Discrete Random Variables can also be described as **cumulative distribution functions(cdf)** , where the discrete random variable is defined with pmf p(x).\n",
        "  * If is defined for every number x by $F(x) = P(X \\le x) = ∑_{y:y ≤ x}p(y)$\n",
        "* **Expected**(mean) value of X with set of possible values $D$ and pmf p(x) is\n",
        "  * $E(X) = μ_{X} = ∑_{x∈D}x · p(x)$\n",
        "* **Varience**(spread of values) of X with pmf p(x) and expected value $\\mu$ is\n",
        "  * $σ^{2}_{X} = V(X) = ∑_{D}(x-μ)^{2} · p(x) = E[(X-μ)^{2}]$\n",
        "* The **standard deviation** of X is\n",
        "  * $σ_{X} = \\sqrt{(σ^{2}_{X}})$"
      ],
      "metadata": {
        "id": "Osd29f7dZ9dz"
      }
    },
    {
      "cell_type": "markdown",
      "source": [
        "## 2.24 Continuous Random Variables"
      ],
      "metadata": {
        "id": "8U8sMHVtQo54"
      }
    },
    {
      "cell_type": "markdown",
      "source": [
        "* A **random variable** X is continuous if possible values consist of either a single inerval on the number line or a union of disjoint intervals.\n",
        "* **Continuous random variables** can be described by a **probablity distribution**, specifically a **probability density function(pdf)** of X.\n",
        "  * A pdf of X is function of f(x) such that for any two numbers $a$ and $b$, $a \\le b$, and $P(a \\le X \\le b) = ∫^{b}_{a}f(x)dx$\n",
        "      * f(x) must satisfy two conditions: $f(x) \\ge 0$ for all $x$ and $∫^{∞}_{-∞}f(x)dx$ = Total area under the entries graph of f(x)\n",
        "      ![image.png](data:image/png;base64,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)\n",
        "* The **expected/mean value** of a continuous random variable X with pdf f(x) is\n",
        "  * $μ_{X} = E(X) = ∫^{∞}_{-∞}x·f(x)dx$\n",
        "* The **varience**(\"spread\" of the values) of a continuous random variable X with pdf f(x) and mean $μ$ is\n",
        "  * $σ^{2}_{X} = V(X) = ∫^{∞}_{-∞}(x - μ)^{2} · f(x)dx = E[(X- μ)^{2}]$\n",
        "* The **standard deviation** of X is\n",
        "  * $σ_{X} = \\sqrt{V(X)}$\n",
        "* Normal distributions often are seen in real life. The equation is\n",
        "  * $f(μ,σ) = \\frac{1}{\\sqrt{2πσ}}e^{-(x-μ)^{2}/(2σ^{2})}$"
      ],
      "metadata": {
        "id": "nZ85rskEbQGB"
      }
    }
  ]
}