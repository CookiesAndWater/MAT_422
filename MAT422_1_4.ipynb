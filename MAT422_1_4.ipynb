{
  "nbformat": 4,
  "nbformat_minor": 0,
  "metadata": {
    "colab": {
      "provenance": [],
      "authorship_tag": "ABX9TyPgQNCGA+mUqfVPYyUSgCCp",
      "include_colab_link": true
    },
    "kernelspec": {
      "name": "python3",
      "display_name": "Python 3"
    },
    "language_info": {
      "name": "python"
    }
  },
  "cells": [
    {
      "cell_type": "markdown",
      "metadata": {
        "id": "view-in-github",
        "colab_type": "text"
      },
      "source": [
        "<a href=\"https://colab.research.google.com/github/CookiesAndWater/MAT_422/blob/main/MAT422_1_4.ipynb\" target=\"_parent\"><img src=\"https://colab.research.google.com/assets/colab-badge.svg\" alt=\"Open In Colab\"/></a>"
      ]
    },
    {
      "cell_type": "markdown",
      "source": [
        "## Singular Value Decomposition"
      ],
      "metadata": {
        "id": "2xF0ILaclO4_"
      }
    },
    {
      "cell_type": "markdown",
      "source": [
        "* **Singular Value Decomposition**: A method to turn a matrix, A, into 3 different matrices that compose A. The equation is $A = U∑V^{T}$\n",
        " * $A$ is an $m × n$ matrix with dimension of $col(A) = t$\n",
        " * The column $U$, of size $m × m$, is called the left singular vectors of A\n",
        " * $∑$ is an $m × n$ matrix where the diagonal entries are the eigenvalues of A\n",
        " * The column $V$, of size $n × n$, is called the right singular vectors of A"
      ],
      "metadata": {
        "id": "iAXO_S0Bhh5j"
      }
    },
    {
      "cell_type": "code",
      "source": [
        "import numpy as np\n",
        "import matplotlib.pyplot as plt\n",
        "import math\n",
        "#Original Matrix\n",
        "A = np.array([\n",
        "    [5,5],\n",
        "    [-1,7]])\n",
        "\n",
        "print(\"We have original matrix A \\n\", A)\n",
        "\n",
        "#Get USV\n",
        "U,S,V, = np.linalg.svd(A)\n",
        "\n",
        "print(\"\\nWe have U \\n\", U)\n",
        "\n",
        "print(\"\\nWe have S \\n\", S)\n",
        "\n",
        "print(\"\\nWe have V \\n\", V)\n",
        "\n"
      ],
      "metadata": {
        "colab": {
          "base_uri": "https://localhost:8080/"
        },
        "id": "WGg20pd9jgQ3",
        "outputId": "505b7b4b-c590-48eb-c2dc-d172fecbeb13"
      },
      "execution_count": 46,
      "outputs": [
        {
          "output_type": "stream",
          "name": "stdout",
          "text": [
            "We have original matrix A \n",
            " [[ 5  5]\n",
            " [-1  7]]\n",
            "\n",
            "We have U \n",
            " [[ 0.70710678  0.70710678]\n",
            " [ 0.70710678 -0.70710678]]\n",
            "\n",
            "We have S \n",
            " [8.94427191 4.47213595]\n",
            "\n",
            "We have V \n",
            " [[ 0.31622777  0.9486833 ]\n",
            " [ 0.9486833  -0.31622777]]\n"
          ]
        }
      ]
    },
    {
      "cell_type": "markdown",
      "source": [
        "We obtain the $U \\sum V^{T}$ (where $\\sum$ is S in the code) by using numpy's function SVD. Both U and V are unit vectors while S is the eigenvalues. When combined give the original matrix A."
      ],
      "metadata": {
        "id": "BWLUg2YulYJs"
      }
    },
    {
      "cell_type": "markdown",
      "source": [
        "## Low-rank matrix approximations"
      ],
      "metadata": {
        "id": "iyokgGZJlVPb"
      }
    },
    {
      "cell_type": "markdown",
      "source": [
        "* **Low-rank matrix approximations**: A method to approximate a matrix by another matrix of a lower rank. We can do this using Singular Value Decomposition(SVD)."
      ],
      "metadata": {
        "id": "ROl9XDFOF8M0"
      }
    },
    {
      "cell_type": "markdown",
      "source": [
        "## Principal component analysis"
      ],
      "metadata": {
        "id": "RgfVa4gMlbQE"
      }
    },
    {
      "cell_type": "markdown",
      "source": [
        "* **Principal component analysis**: A method of reducing the dimension, while trying to keep the most important information of the data, varience.\n",
        "* **Covariance**: The relation between two variables, how they change together. The equation is $cov(x) = \\frac{1}{n-1} \\sum (x_{i} - \\bar{x}) (y_{i} - \\bar{y})$"
      ],
      "metadata": {
        "id": "qAXvA7GnNuNq"
      }
    },
    {
      "cell_type": "code",
      "source": [
        "#Test data set\n",
        "X = np.random.randint(10,50,20).reshape(10,2)\n",
        "X_mean = X - np.mean(X, axis = 0)\n",
        "\n",
        "#Covariance matrix of X_mean\n",
        "covarience = np.cov(X_mean , rowvar = False)\n",
        "\n",
        "#Getting the EigenValues and Eigenvectors\n",
        "eig_val , eig_vec = np.linalg.eigh(covarience)\n",
        "\n",
        "#Sort EigenValue and EigenVector\n",
        "sorted_index = np.argsort(eig_val)[::-1]\n",
        "\n",
        "sort_eig_val = eig_val[sorted_index]\n",
        "sort_eig_vec = eig_vec[:,sorted_index]\n",
        "\n",
        "#We can select how much we want to reduce the dimesionality, n\n",
        "n = 1\n",
        "eig_vec_subset = sort_eig_vec[:,0:n]\n",
        "\n",
        "X_reduced = np.dot(eig_vec_subset.transpose(), X_mean.transpose()).transpose()\n",
        "\n",
        "\n",
        "x = np.arange(0, 10, 1)\n",
        "\n",
        "plt.plot(x,X_reduced, marker = \"o\", linestyle = \"\")\n",
        "plt.plot(x,X, marker = \"o\", linestyle = \"\")"
      ],
      "metadata": {
        "colab": {
          "base_uri": "https://localhost:8080/",
          "height": 465
        },
        "id": "qrnhk7iLNiOi",
        "outputId": "ca5e188c-6c0d-4d12-d33b-983d9dc73169"
      },
      "execution_count": 36,
      "outputs": [
        {
          "output_type": "execute_result",
          "data": {
            "text/plain": [
              "[<matplotlib.lines.Line2D at 0x7adcbf5473d0>,\n",
              " <matplotlib.lines.Line2D at 0x7adcbf547460>]"
            ]
          },
          "metadata": {},
          "execution_count": 36
        },
        {
          "output_type": "display_data",
          "data": {
            "text/plain": [
              "<Figure size 640x480 with 1 Axes>"
            ],
            "image/png": "[encoded data removed]"
          },
          "metadata": {}
        }
      ]
    },
    {
      "cell_type": "markdown",
      "source": [
        "The code is explained in the comments. We generate a random data set, X, where we obtain the covarience. We then obtain the eigenvalues and eigenvectros from the covarience. We then organizing the eigenvalue by their value, which also organizes them by their variablity, since a higher eigenvalue means a higher eigenvector. We then choose how much we want to reduce the dimensionality by the value n, which chooses n values form the eigenvector. We then calculate the reduced matrix X.\n",
        "\n",
        "An example of Principal Component Analysis would be data compression, keeping the most important part of the data while reducing it. It can be seen with pictures. When they are compressed, they look bad but still you can make out the general details of it."
      ],
      "metadata": {
        "id": "JT2VetpsQsFK"
      }
    }
  ]
}